{
 "cells": [
  {
   "cell_type": "markdown",
   "id": "288d8d02",
   "metadata": {},
   "source": [
    "## Python Variables"
   ]
  },
  {
   "cell_type": "code",
   "execution_count": 1,
   "id": "b54fdfc4",
   "metadata": {},
   "outputs": [
    {
     "name": "stdout",
     "output_type": "stream",
     "text": [
      "5\n",
      "John\n"
     ]
    }
   ],
   "source": [
    "x = 5\n",
    "y = \"John\"\n",
    "print(x)\n",
    "print(y)"
   ]
  },
  {
   "cell_type": "code",
   "execution_count": 2,
   "id": "d77d5a4f",
   "metadata": {},
   "outputs": [
    {
     "name": "stdout",
     "output_type": "stream",
     "text": [
      "Sally\n"
     ]
    }
   ],
   "source": [
    "x = 4       # x is of type int\n",
    "x = \"Sally\" # x is now of type str\n",
    "print(x)"
   ]
  },
  {
   "cell_type": "code",
   "execution_count": 3,
   "id": "4738cffa",
   "metadata": {},
   "outputs": [
    {
     "name": "stdout",
     "output_type": "stream",
     "text": [
      "3 3 3.0\n"
     ]
    }
   ],
   "source": [
    "x = str(3)    # x will be '3'\n",
    "y = int(3)    # y will be 3\n",
    "z = float(3)  # z will be 3.0\n",
    "print(x, y, z)"
   ]
  },
  {
   "cell_type": "code",
   "execution_count": 4,
   "id": "da5bfd58",
   "metadata": {},
   "outputs": [
    {
     "name": "stdout",
     "output_type": "stream",
     "text": [
      "<class 'int'>\n",
      "<class 'str'>\n"
     ]
    }
   ],
   "source": [
    "x = 5\n",
    "y = \"John\"\n",
    "print(type(x))\n",
    "print(type(y))"
   ]
  },
  {
   "cell_type": "code",
   "execution_count": 5,
   "id": "6392e8c9",
   "metadata": {},
   "outputs": [
    {
     "name": "stdout",
     "output_type": "stream",
     "text": [
      "John\n"
     ]
    }
   ],
   "source": [
    "x = \"John\"\n",
    "# is the same as\n",
    "x = 'John'\n",
    "print(x)"
   ]
  },
  {
   "cell_type": "code",
   "execution_count": 6,
   "id": "2e6924de",
   "metadata": {},
   "outputs": [
    {
     "name": "stdout",
     "output_type": "stream",
     "text": [
      "4 Sally\n"
     ]
    }
   ],
   "source": [
    "a = 4\n",
    "A = \"Sally\"\n",
    "#A will not overwrite a\n",
    "print(a, A)"
   ]
  },
  {
   "cell_type": "code",
   "execution_count": 7,
   "id": "950cf746",
   "metadata": {},
   "outputs": [
    {
     "name": "stdout",
     "output_type": "stream",
     "text": [
      "Orange\n",
      "Banana\n",
      "Cherry\n"
     ]
    }
   ],
   "source": [
    "x, y, z = \"Orange\", \"Banana\", \"Cherry\"\n",
    "print(x)\n",
    "print(y)\n",
    "print(z)"
   ]
  },
  {
   "cell_type": "code",
   "execution_count": 8,
   "id": "2f7fb065",
   "metadata": {},
   "outputs": [
    {
     "name": "stdout",
     "output_type": "stream",
     "text": [
      "Orange\n",
      "Orange\n",
      "Orange\n"
     ]
    }
   ],
   "source": [
    "x = y = z = \"Orange\"\n",
    "print(x)\n",
    "print(y)\n",
    "print(z)"
   ]
  },
  {
   "cell_type": "code",
   "execution_count": 9,
   "id": "65b6703b",
   "metadata": {},
   "outputs": [
    {
     "name": "stdout",
     "output_type": "stream",
     "text": [
      "apple\n",
      "banana\n",
      "cherry\n"
     ]
    }
   ],
   "source": [
    "fruits = [\"apple\", \"banana\", \"cherry\"]\n",
    "x, y, z = fruits\n",
    "print(x)\n",
    "print(y)\n",
    "print(z)"
   ]
  },
  {
   "cell_type": "code",
   "execution_count": 10,
   "id": "e5325dd3",
   "metadata": {},
   "outputs": [
    {
     "name": "stdout",
     "output_type": "stream",
     "text": [
      "Python is awesome\n"
     ]
    }
   ],
   "source": [
    "x = \"Python\"\n",
    "y = \"is\"\n",
    "z = \"awesome\"\n",
    "print(x, y, z)"
   ]
  },
  {
   "cell_type": "code",
   "execution_count": 11,
   "id": "bf5e8a38",
   "metadata": {},
   "outputs": [
    {
     "name": "stdout",
     "output_type": "stream",
     "text": [
      "Python is awesome\n"
     ]
    }
   ],
   "source": [
    "x = \"Python \"\n",
    "y = \"is \"\n",
    "z = \"awesome\"\n",
    "print(x + y + z)"
   ]
  },
  {
   "cell_type": "code",
   "execution_count": 12,
   "id": "b3138bc4",
   "metadata": {},
   "outputs": [
    {
     "name": "stdout",
     "output_type": "stream",
     "text": [
      "15\n"
     ]
    }
   ],
   "source": [
    "x = 5\n",
    "y = 10\n",
    "print(x + y)"
   ]
  },
  {
   "cell_type": "markdown",
   "id": "aa887ad0",
   "metadata": {},
   "source": [
    "## Python Functions"
   ]
  },
  {
   "cell_type": "code",
   "execution_count": 13,
   "id": "4b3a813d",
   "metadata": {},
   "outputs": [
    {
     "name": "stdout",
     "output_type": "stream",
     "text": [
      "Python is awesome\n"
     ]
    }
   ],
   "source": [
    "x = \"awesome\"\n",
    "\n",
    "def myfunc():\n",
    "  print(\"Python is \" + x)\n",
    "\n",
    "myfunc()"
   ]
  },
  {
   "cell_type": "code",
   "execution_count": 14,
   "id": "f7ba4d50",
   "metadata": {},
   "outputs": [
    {
     "name": "stdout",
     "output_type": "stream",
     "text": [
      "Python is really fantastic\n",
      "Python is awesome\n"
     ]
    }
   ],
   "source": [
    "x = \"awesome\"\n",
    "\n",
    "def myfunc():\n",
    "  x = \"fantastic\"\n",
    "  print(\"Python is really \" + x)\n",
    "\n",
    "myfunc()\n",
    "\n",
    "print(\"Python is \" + x)"
   ]
  },
  {
   "cell_type": "code",
   "execution_count": 15,
   "id": "dade55c5",
   "metadata": {},
   "outputs": [
    {
     "name": "stdout",
     "output_type": "stream",
     "text": [
      "Python is fantastic\n"
     ]
    }
   ],
   "source": [
    "def myfunc():\n",
    "  global x\n",
    "  x = \"fantastic\"\n",
    "\n",
    "myfunc()\n",
    "\n",
    "print(\"Python is \" + x)"
   ]
  },
  {
   "cell_type": "code",
   "execution_count": 16,
   "id": "b1db0f13",
   "metadata": {},
   "outputs": [
    {
     "name": "stdout",
     "output_type": "stream",
     "text": [
      "Python is fantastic\n"
     ]
    }
   ],
   "source": [
    "x = \"awesome\"\n",
    "\n",
    "def myfunc():\n",
    "  global x\n",
    "  x = \"fantastic\"\n",
    "\n",
    "myfunc()\n",
    "\n",
    "print(\"Python is \" + x)"
   ]
  },
  {
   "cell_type": "markdown",
   "id": "c2b901df",
   "metadata": {},
   "source": [
    "## Map Function"
   ]
  },
  {
   "cell_type": "code",
   "execution_count": 17,
   "id": "af91f233",
   "metadata": {},
   "outputs": [
    {
     "name": "stdout",
     "output_type": "stream",
     "text": [
      "['The number 2 is even', 'The number 4 is even', 'The number 19 is odd', 'The number 24 is even', 'The number 73 is odd', 'The number 892 is even', 'The number 627 is odd', 'The number 245 is odd']\n"
     ]
    }
   ],
   "source": [
    "def even_odd(number):\n",
    "    if number % 2 == 0:\n",
    "        return \"The number {} is even\".format(number)\n",
    "    else:\n",
    "        return \"The number {} is odd\".format(number)\n",
    "\n",
    "numbers = (2, 4, 19, 24, 73, 892, 627, 245)\n",
    "result = list(map(even_odd, numbers))\n",
    "print(result)"
   ]
  },
  {
   "cell_type": "code",
   "execution_count": 18,
   "id": "9884687e",
   "metadata": {},
   "outputs": [
    {
     "name": "stdout",
     "output_type": "stream",
     "text": [
      "[2, 4, 6, 8]\n"
     ]
    }
   ],
   "source": [
    "def addition(n):\n",
    "    return n + n\n",
    " \n",
    "# We double all numbers using map()\n",
    "numbers = (1, 2, 3, 4)\n",
    "result = map(addition, numbers)\n",
    "print(list(result))"
   ]
  },
  {
   "cell_type": "markdown",
   "id": "1a447f5a",
   "metadata": {},
   "source": [
    "## Lambda Function"
   ]
  },
  {
   "cell_type": "code",
   "execution_count": 19,
   "id": "19c5853b",
   "metadata": {},
   "outputs": [
    {
     "name": "stdout",
     "output_type": "stream",
     "text": [
      "9\n"
     ]
    }
   ],
   "source": [
    "add = lambda x,y: x + y\n",
    "print(add(2,7))"
   ]
  },
  {
   "cell_type": "code",
   "execution_count": 20,
   "id": "7ec9fb6a",
   "metadata": {},
   "outputs": [
    {
     "name": "stdout",
     "output_type": "stream",
     "text": [
      "[1, 4, 9, 16]\n"
     ]
    }
   ],
   "source": [
    "compound = lambda x: x * x\n",
    "listt = [1, 2, 3, 4]\n",
    "squared_list = list(map(compound, listt))\n",
    "print(squared_list)"
   ]
  },
  {
   "cell_type": "code",
   "execution_count": 21,
   "id": "138a5752",
   "metadata": {},
   "outputs": [
    {
     "name": "stdout",
     "output_type": "stream",
     "text": [
      "[True, False, False, True, False]\n"
     ]
    }
   ],
   "source": [
    "even_odd_new = lambda x: x % 2 == 0\n",
    "listarray = [2, 89, 63, 96, 109]\n",
    "result_array = list(map(even_odd_new, listarray))\n",
    "print(result_array)"
   ]
  },
  {
   "cell_type": "code",
   "execution_count": 25,
   "id": "27ede22a",
   "metadata": {},
   "outputs": [
    {
     "name": "stdout",
     "output_type": "stream",
     "text": [
      "[5, 107, 160, 521, 9375]\n"
     ]
    }
   ],
   "source": [
    "addandmap = lambda x, y: x + y\n",
    "listone = [2, 89, 63, 96, 109]\n",
    "listtwo = [3, 18, 97, 425, 9266]\n",
    "result_add_array = list(map(addandmap, listone, listtwo))\n",
    "print(result_add_array)"
   ]
  },
  {
   "cell_type": "markdown",
   "id": "acf856af",
   "metadata": {},
   "source": [
    "## Python Classes and Objects"
   ]
  },
  {
   "cell_type": "markdown",
   "id": "b4a3dd9f",
   "metadata": {},
   "source": [
    "### Classes"
   ]
  },
  {
   "cell_type": "code",
   "execution_count": 2,
   "id": "e6e42186",
   "metadata": {},
   "outputs": [
    {
     "name": "stdout",
     "output_type": "stream",
     "text": [
      "My name is Rohit\n",
      "<__main__.Name object at 0x0000019A3060CDC0>\n"
     ]
    }
   ],
   "source": [
    "class Name:\n",
    "    print('My name is Rohit')\n",
    "\n",
    "p1 = Name()\n",
    "print(p1)"
   ]
  },
  {
   "cell_type": "code",
   "execution_count": 10,
   "id": "03feb0d6",
   "metadata": {},
   "outputs": [
    {
     "name": "stdout",
     "output_type": "stream",
     "text": [
      "Rohit\n",
      "<__main__.Person object at 0x0000019A3056B520>\n"
     ]
    }
   ],
   "source": [
    "class Person:\n",
    "    def __init__(self, name):\n",
    "        self.name = 'Rohit'\n",
    "        print(self.name)\n",
    "\n",
    "p2 = Person('Hitman')\n",
    "print(p2)"
   ]
  },
  {
   "cell_type": "code",
   "execution_count": 3,
   "id": "7928c49a",
   "metadata": {},
   "outputs": [
    {
     "name": "stdout",
     "output_type": "stream",
     "text": [
      "My name is Rohit and my age is 25\n",
      "<__main__.Person object at 0x000001DC8C314D30>\n"
     ]
    }
   ],
   "source": [
    "class Person:\n",
    "    def __init__(self, name, age):\n",
    "        self.name = name\n",
    "        self.age = age\n",
    "        print('My name is {} and my age is {}'.format(self.name, self.age))\n",
    "\n",
    "p2 = Person('Rohit', 25)\n",
    "print(p2)"
   ]
  },
  {
   "cell_type": "markdown",
   "id": "338eec9a",
   "metadata": {},
   "source": [
    "### Objects"
   ]
  },
  {
   "cell_type": "code",
   "execution_count": 9,
   "id": "72516b31",
   "metadata": {},
   "outputs": [
    {
     "name": "stdout",
     "output_type": "stream",
     "text": [
      "Hello my age is 36\n"
     ]
    }
   ],
   "source": [
    "class Person:\n",
    "    def __init__(self, name, age):\n",
    "        self.name = name\n",
    "        self.age = age\n",
    "\n",
    "    def myfunc(self):\n",
    "        print(\"Hello my name is \" + self.name)\n",
    "    \n",
    "    def myAge(self):\n",
    "        print(\"Hello my age is \" + str(self.age))\n",
    "\n",
    "p1 = Person(\"John\", 36)\n",
    "p1.myAge()"
   ]
  },
  {
   "cell_type": "code",
   "execution_count": 10,
   "id": "34eab2c0",
   "metadata": {},
   "outputs": [
    {
     "name": "stdout",
     "output_type": "stream",
     "text": [
      "Hello my name is John\n"
     ]
    }
   ],
   "source": [
    "class Person:\n",
    "    def __init__(mysillyobject, name, age):\n",
    "        mysillyobject.name = name\n",
    "        mysillyobject.age = age\n",
    "\n",
    "    def myfunc(abc):\n",
    "        print(\"Hello my name is \" + abc.name)\n",
    "\n",
    "p1 = Person(\"John\", 36)\n",
    "p1.myfunc()"
   ]
  },
  {
   "cell_type": "code",
   "execution_count": 13,
   "id": "75fb87ff",
   "metadata": {},
   "outputs": [
    {
     "name": "stdout",
     "output_type": "stream",
     "text": [
      "Name: John Age: 36\n"
     ]
    }
   ],
   "source": [
    "class Person:\n",
    "    def __init__(mysillyobject, name, age):\n",
    "        mysillyobject.name = name\n",
    "        mysillyobject.age = age\n",
    "\n",
    "    def myfunc(abc):\n",
    "        print(\"Hello my name is \" + abc.name)\n",
    "\n",
    "p1 = Person(\"John\", 36)\n",
    "print('Name:', p1.name, 'Age:', p1.age)"
   ]
  },
  {
   "cell_type": "markdown",
   "id": "497a2f44",
   "metadata": {},
   "source": [
    "## Inheritance"
   ]
  },
  {
   "cell_type": "markdown",
   "id": "173e53db",
   "metadata": {},
   "source": [
    "### Single Inheritance"
   ]
  },
  {
   "cell_type": "code",
   "execution_count": 22,
   "id": "f866969a",
   "metadata": {},
   "outputs": [
    {
     "name": "stdout",
     "output_type": "stream",
     "text": [
      "Tata Nexon\n"
     ]
    }
   ],
   "source": [
    "class Vehicles:\n",
    "    def __init__(self, company, model):\n",
    "        self.company = company\n",
    "        self.model = model\n",
    "    \n",
    "    def cardetails(self):\n",
    "        print(self.company, self.model)\n",
    "        \n",
    "class Cars(Vehicles):\n",
    "    def __init__(self, company, model):\n",
    "        Vehicles.__init__(self, company, model)\n",
    "        \n",
    "x = Cars(\"Tata\", \"Nexon\")\n",
    "x.cardetails()"
   ]
  },
  {
   "cell_type": "code",
   "execution_count": 23,
   "id": "eb52b790",
   "metadata": {},
   "outputs": [
    {
     "name": "stdout",
     "output_type": "stream",
     "text": [
      "Tata Nexon\n"
     ]
    }
   ],
   "source": [
    "class Vehicles:\n",
    "    def __init__(self, company, model):\n",
    "        self.company = company\n",
    "        self.model = model\n",
    "    \n",
    "    def cardetails(self):\n",
    "        print(self.company, self.model)\n",
    "        \n",
    "class Cars(Vehicles):\n",
    "    def __init__(self, company, model):\n",
    "        #super() function make the child class inherit all the methods and properties from its parent.\n",
    "        super().__init__(company, model)\n",
    "        \n",
    "x = Cars(\"Tata\", \"Nexon\")\n",
    "x.cardetails()"
   ]
  },
  {
   "cell_type": "code",
   "execution_count": 24,
   "id": "473e2707",
   "metadata": {},
   "outputs": [
    {
     "name": "stdout",
     "output_type": "stream",
     "text": [
      "Harrier\n"
     ]
    }
   ],
   "source": [
    "class Vehicles:\n",
    "    def __init__(self, company, model):\n",
    "        self.company = company\n",
    "        self.model = model\n",
    "    \n",
    "    def cardetails(self):\n",
    "        print(self.company, self.model)\n",
    "        \n",
    "    def carname(self):\n",
    "        print(self.model)\n",
    "        \n",
    "class Cars(Vehicles):\n",
    "    def __init__(self, company, model):\n",
    "        super().__init__(company, model)\n",
    "        \n",
    "x = Cars(\"Tata\", \"Harrier\")\n",
    "x.carname()"
   ]
  },
  {
   "cell_type": "code",
   "execution_count": 26,
   "id": "56605ed4",
   "metadata": {},
   "outputs": [
    {
     "name": "stdout",
     "output_type": "stream",
     "text": [
      "Petrol\n"
     ]
    }
   ],
   "source": [
    "class Vehicles:\n",
    "    def __init__(self, company, model):\n",
    "        self.company = company\n",
    "        self.model = model\n",
    "    \n",
    "    def cardetails(self):\n",
    "        print(self.company, self.model)\n",
    "        \n",
    "class Cars(Vehicles):\n",
    "    def __init__(self, company, model):\n",
    "        super().__init__(company, model)\n",
    "        self.fueltype = 'Petrol' \n",
    "        \n",
    "x = Cars(\"Tata\", \"Harrier\")\n",
    "print(x.fueltype)"
   ]
  },
  {
   "cell_type": "markdown",
   "id": "6a6ae874",
   "metadata": {},
   "source": [
    "### Multiple Inheritance"
   ]
  },
  {
   "cell_type": "code",
   "execution_count": 35,
   "id": "e5709dc5",
   "metadata": {},
   "outputs": [
    {
     "name": "stdout",
     "output_type": "stream",
     "text": [
      "My electric car's battery capacity is Petrol.\n",
      "Self: <__main__.VehicleData object at 0x000001DC8C8E0130>\n",
      "fueltype\n"
     ]
    }
   ],
   "source": [
    "class Vehicles:\n",
    "    def __init__(self, company, model):\n",
    "        self.company = company\n",
    "        self.model = model\n",
    "    \n",
    "    def cardetails(self):\n",
    "        print(self.company, self.model)\n",
    "        \n",
    "class Cars:\n",
    "    def __init__(self, company, model):\n",
    "        super().__init__(company, model) \n",
    "    \n",
    "    def fuel(self):\n",
    "        print('fueltype')\n",
    "        \n",
    "class VehicleData(Vehicles, Cars):\n",
    "    def __init__(self, company, model, fueltype):\n",
    "        Vehicles.__init__(self, company, model)\n",
    "        self.fueltype = 'Petrol'\n",
    "    \n",
    "    def car(self):\n",
    "        print('Self:', self)\n",
    "\n",
    "y = VehicleData(\"Tesla\", \"Model S\", \"Diesel\")\n",
    "print(f\"My electric car's battery capacity is {y.fueltype}.\")\n",
    "y.car()\n",
    "y.fuel()"
   ]
  },
  {
   "cell_type": "code",
   "execution_count": null,
   "id": "2300d9d1",
   "metadata": {},
   "outputs": [],
   "source": []
  },
  {
   "cell_type": "code",
   "execution_count": null,
   "id": "095ed87c",
   "metadata": {},
   "outputs": [],
   "source": []
  },
  {
   "cell_type": "code",
   "execution_count": null,
   "id": "c9205932",
   "metadata": {},
   "outputs": [],
   "source": []
  },
  {
   "cell_type": "markdown",
   "id": "60f31a58",
   "metadata": {},
   "source": [
    "### Multilevel Inheritance"
   ]
  },
  {
   "cell_type": "code",
   "execution_count": 1,
   "id": "9e85974c",
   "metadata": {},
   "outputs": [
    {
     "name": "stdout",
     "output_type": "stream",
     "text": [
      "The Name is : Lokesh Singh\n",
      "The Age is : 21\n",
      "The role is : Software Trainer\n",
      "The Roll is : 25\n"
     ]
    }
   ],
   "source": [
    "class Base:\n",
    "    # Constructor to set Data\n",
    "    def __init__(self, name, roll, role):\n",
    "        self.name = name\n",
    "        self.roll = roll\n",
    "        self.role = role\n",
    " \n",
    "# Intermediate Class: Inherits the Base Class\n",
    "class Intermediate(Base):\n",
    "    # Constructor to set age\n",
    "    def __init__(self, age, name, roll, role):\n",
    "        super().__init__(name, roll, role)\n",
    "        self.age = age\n",
    " \n",
    "# Derived Class: Inherits the Intermediate Class\n",
    "class Derived(Intermediate):\n",
    "    # Method to Print Data\n",
    "    def __init__(self, age, name, roll, role):\n",
    "        super().__init__(age, name, roll, role)\n",
    " \n",
    "    def Print_Data(self):\n",
    "        print(f\"The Name is : {self.name}\")\n",
    "        print(f\"The Age is : {self.age}\")\n",
    "        print(f\"The role is : {self.role}\")\n",
    "        print(f\"The Roll is : {self.roll}\")\n",
    " \n",
    "# Creating Object of Base Class\n",
    "obj = Derived(21, \"Lokesh Singh\", 25, \"Software Trainer\")\n",
    " \n",
    "# Printing the data with the help of derived class\n",
    "obj.Print_Data()"
   ]
  },
  {
   "cell_type": "code",
   "execution_count": 2,
   "id": "3b66ee58",
   "metadata": {},
   "outputs": [
    {
     "name": "stdout",
     "output_type": "stream",
     "text": [
      "None\n",
      "Buddy says Woof!\n",
      "Max says Woof Woof!\n"
     ]
    }
   ],
   "source": [
    "class Animal:\n",
    "    def __init__(self, name):\n",
    "        self.name = name\n",
    "\n",
    "    def speak(self):\n",
    "        pass  # Placeholder method\n",
    "\n",
    "\n",
    "class Dog(Animal):\n",
    "    def speak(self):\n",
    "        return f\"{self.name} says Woof!\"\n",
    "\n",
    "\n",
    "class Labrador(Dog):\n",
    "    def speak(self):\n",
    "        return f\"{self.name} says Woof Woof!\"\n",
    "\n",
    "# Usage\n",
    "animal = Animal(\"Generic Animal\")\n",
    "print(animal.speak())  # Output: None (placeholder method)\n",
    "\n",
    "dog = Dog(\"Buddy\")\n",
    "print(dog.speak())  # Output: Buddy says Woof!\n",
    "\n",
    "labrador = Labrador(\"Max\")\n",
    "print(labrador.speak())  # Output: Max says Woof Woof!"
   ]
  },
  {
   "cell_type": "code",
   "execution_count": 18,
   "id": "9e804d95",
   "metadata": {},
   "outputs": [
    {
     "name": "stdout",
     "output_type": "stream",
     "text": [
      "The registraion number is MH00YU7871 and vin number is VIN098715IO9019\n",
      "None\n",
      "The model of the vehicle is YODHA 15 S with registration number MH00YU7871 and VIN number VIN098715IO9019\n",
      "None\n"
     ]
    }
   ],
   "source": [
    "class Vehicle:\n",
    "    def __init__(self, reg_number, vin):\n",
    "        self.reg_number = reg_number\n",
    "        self.vin = vin\n",
    "    \n",
    "class Truck(Vehicle):\n",
    "    def TruckDetails(self):\n",
    "#         super().__init__(reg_number, vin)\n",
    "        print('The registraion number is {} and vin number is {}'.format(self.reg_number, self.vin))\n",
    "\n",
    "class Model(Truck):\n",
    "    def __init__(self, reg_number, vin, model):  \n",
    "        super().__init__(reg_number, vin) \n",
    "        self.model = model\n",
    "    \n",
    "    def ModelDetails(self):\n",
    "        print('The model of the vehicle is {} with registration number {} and VIN number {}'.format(self.model, self.reg_number, self.vin))\n",
    "        \n",
    "vehicle = Vehicle('MH00YU7871', 'VIN098715IO9019')\n",
    "\n",
    "truck_details = Truck('MH00YU7871', 'VIN098715IO9019')\n",
    "print(truck_details.TruckDetails()) \n",
    "\n",
    "truck_model = Model('MH00YU7871', 'VIN098715IO9019', 'YODHA 15 S')\n",
    "print(truck_model.ModelDetails())  "
   ]
  },
  {
   "cell_type": "markdown",
   "id": "1aa49315",
   "metadata": {},
   "source": [
    "### Hierarchical Inheritance"
   ]
  },
  {
   "cell_type": "code",
   "execution_count": 3,
   "id": "f30d20c0",
   "metadata": {},
   "outputs": [
    {
     "name": "stdout",
     "output_type": "stream",
     "text": [
      "Drawing a red circle with radius 5\n",
      "Drawing a blue rectangle with width 3 and height 4\n"
     ]
    }
   ],
   "source": [
    "class Shape:\n",
    "    def __init__(self, color):\n",
    "        self.color = color\n",
    "\n",
    "    def draw(self):\n",
    "        return f\"Drawing a {self.color} shape\"\n",
    "\n",
    "\n",
    "class Circle(Shape):\n",
    "    def __init__(self, color, radius):\n",
    "        super().__init__(color)\n",
    "        self.radius = radius\n",
    "\n",
    "    def draw(self):\n",
    "        return f\"Drawing a {self.color} circle with radius {self.radius}\"\n",
    "\n",
    "\n",
    "class Rectangle(Shape):\n",
    "    def __init__(self, color, width, height):\n",
    "        super().__init__(color)\n",
    "        self.width = width\n",
    "        self.height = height\n",
    "\n",
    "    def draw(self):\n",
    "        return f\"Drawing a {self.color} rectangle with width {self.width} and height {self.height}\"\n",
    "\n",
    "\n",
    "# Usage\n",
    "circle = Circle(\"red\", 5)\n",
    "print(circle.draw())  # Output: Drawing a red circle with radius 5\n",
    "\n",
    "rectangle = Rectangle(\"blue\", 3, 4)\n",
    "print(rectangle.draw())  # Output: Drawing a blue rectangle with width 3 and height 4"
   ]
  },
  {
   "cell_type": "code",
   "execution_count": 4,
   "id": "051ae236",
   "metadata": {},
   "outputs": [
    {
     "name": "stdout",
     "output_type": "stream",
     "text": [
      "Toyota Camry, Fuel Type: Petrol\n",
      "Honda CBR500R, Engine Capacity: 500cc\n"
     ]
    }
   ],
   "source": [
    "class Vehicle:\n",
    "    def __init__(self, brand, model):\n",
    "        self.brand = brand\n",
    "        self.model = model\n",
    "\n",
    "    def display_info(self):\n",
    "        return f\"{self.brand} {self.model}\"\n",
    "\n",
    "\n",
    "class Car(Vehicle):\n",
    "    def __init__(self, brand, model, fuel_type):\n",
    "        super().__init__(brand, model)\n",
    "        self.fuel_type = fuel_type\n",
    "\n",
    "    def display_info(self):\n",
    "        return f\"{super().display_info()}, Fuel Type: {self.fuel_type}\"\n",
    "\n",
    "\n",
    "class Motorcycle(Vehicle):\n",
    "    def __init__(self, brand, model, engine_capacity):\n",
    "        super().__init__(brand, model)\n",
    "        self.engine_capacity = engine_capacity\n",
    "\n",
    "    def display_info(self):\n",
    "        return f\"{super().display_info()}, Engine Capacity: {self.engine_capacity}cc\"\n",
    "\n",
    "\n",
    "# Usage\n",
    "car = Car(\"Toyota\", \"Camry\", \"Petrol\")\n",
    "print(car.display_info())  # Output: Toyota Camry, Fuel Type: Petrol\n",
    "\n",
    "motorcycle = Motorcycle(\"Honda\", \"CBR500R\", 500)\n",
    "print(motorcycle.display_info())  # Output: Honda CBR500R, Engine Capacity: 500cc"
   ]
  },
  {
   "cell_type": "markdown",
   "id": "e828c9da",
   "metadata": {},
   "source": [
    "### Hybrid Inheritance"
   ]
  },
  {
   "cell_type": "code",
   "execution_count": 7,
   "id": "f7c1a16c",
   "metadata": {},
   "outputs": [
    {
     "name": "stdout",
     "output_type": "stream",
     "text": [
      "Animal speaks\n",
      "Mammal gives birth\n",
      "Bird lays eggs\n"
     ]
    }
   ],
   "source": [
    "class Animal:\n",
    "    def speak(self):\n",
    "        print(\"Animal speaks\")\n",
    "\n",
    "\n",
    "class Mammal(Animal):\n",
    "    def give_birth(self):\n",
    "        print(\"Mammal gives birth\")\n",
    "\n",
    "\n",
    "class Bird(Animal):\n",
    "    def lay_eggs(self):\n",
    "        print(\"Bird lays eggs\")\n",
    "\n",
    "\n",
    "class Platypus(Mammal, Bird):\n",
    "    pass\n",
    "\n",
    "\n",
    "platypus = Platypus()\n",
    "platypus.speak()        # Method from Animal class\n",
    "platypus.give_birth()   # Method from Mammal class\n",
    "platypus.lay_eggs()    # Method from Bird class"
   ]
  },
  {
   "cell_type": "code",
   "execution_count": 8,
   "id": "18847673",
   "metadata": {},
   "outputs": [
    {
     "name": "stdout",
     "output_type": "stream",
     "text": [
      "Vehicle moves\n",
      "Car drives\n",
      "Boat sails\n",
      "Amphibious vehicle can both drive and sail\n"
     ]
    }
   ],
   "source": [
    "class Vehicle:\n",
    "    def move(self):\n",
    "        print(\"Vehicle moves\")\n",
    "\n",
    "\n",
    "class Car(Vehicle):\n",
    "    def drive(self):\n",
    "        print(\"Car drives\")\n",
    "\n",
    "\n",
    "class Boat(Vehicle):\n",
    "    def sail(self):\n",
    "        print(\"Boat sails\")\n",
    "\n",
    "\n",
    "class AmphibiousVehicle(Car, Boat):\n",
    "    def amphibious_action(self):\n",
    "        print(\"Amphibious vehicle can both drive and sail\")\n",
    "\n",
    "\n",
    "amphibious_vehicle = AmphibiousVehicle()\n",
    "amphibious_vehicle.move()\n",
    "amphibious_vehicle.drive()\n",
    "amphibious_vehicle.sail()\n",
    "amphibious_vehicle.amphibious_action()"
   ]
  }
 ],
 "metadata": {
  "kernelspec": {
   "display_name": "Python 3 (ipykernel)",
   "language": "python",
   "name": "python3"
  },
  "language_info": {
   "codemirror_mode": {
    "name": "ipython",
    "version": 3
   },
   "file_extension": ".py",
   "mimetype": "text/x-python",
   "name": "python",
   "nbconvert_exporter": "python",
   "pygments_lexer": "ipython3",
   "version": "3.10.9"
  }
 },
 "nbformat": 4,
 "nbformat_minor": 5
}
